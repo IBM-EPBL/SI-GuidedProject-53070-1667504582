{
  "metadata": {
    "colab": {
      "provenance": []
    },
    "kernelspec": {
      "name": "python",
      "display_name": "Python (Pyodide)",
      "language": "python"
    },
    "language_info": {
      "codemirror_mode": {
        "name": "python",
        "version": 3
      },
      "file_extension": ".py",
      "mimetype": "text/x-python",
      "name": "python",
      "nbconvert_exporter": "python",
      "pygments_lexer": "ipython3",
      "version": "3.8"
    }
  },
  "nbformat_minor": 4,
  "nbformat": 4,
  "cells": [
    {
      "cell_type": "markdown",
      "source": "Team ID:PNT2022TMID25718",
      "metadata": {
        "id": "uQYJmbHJPf9R"
      }
    },
    {
      "cell_type": "code",
      "source": "import numpy\nimport matplotlib.pyplot as plt\nfrom keras.utils import np_utils\nfrom tensorflow.keras.datasets import mnist\nfrom tensorflow.keras.models import Sequential\nfrom tensorflow.keras.layers import Conv2D, Dense, Flatten\nfrom tensorflow.keras.optimizers import Adam",
      "metadata": {
        "id": "ZmK8HGGoPJ-c"
      },
      "execution_count": 1,
      "outputs": []
    },
    {
      "cell_type": "markdown",
      "source": "Load Data",
      "metadata": {
        "id": "h3qyragZPepO"
      }
    },
    {
      "cell_type": "code",
      "source": "(X_train, y_train), (X_test, y_test) = mnist.load_data()\n",
      "metadata": {
        "colab": {
          "base_uri": "https://localhost:8080/"
        },
        "id": "JZ60sDhgPzZE",
        "outputId": "eb8e7929-16ea-40f6-f555-36a191267e86"
      },
      "execution_count": 2,
      "outputs": [
        {
          "output_type": "stream",
          "name": "stdout",
          "text": "Downloading data from https://storage.googleapis.com/tensorflow/tf-keras-datasets/mnist.npz\n\n11490434/11490434 [==============================] - 0s 0us/step\n"
        }
      ]
    },
    {
      "cell_type": "code",
      "source": "print(X_train.shape)\nprint(X_test.shape)",
      "metadata": {
        "colab": {
          "base_uri": "https://localhost:8080/"
        },
        "id": "DB9Q0GqiQCW2",
        "outputId": "03cd25f4-ce7f-4b08-c8a8-ae9a43a80021"
      },
      "execution_count": 3,
      "outputs": [
        {
          "output_type": "stream",
          "name": "stdout",
          "text": "(60000, 28, 28)\n\n(10000, 28, 28)\n"
        }
      ]
    },
    {
      "cell_type": "code",
      "source": "X_train[0]",
      "metadata": {
        "colab": {
          "base_uri": "https://localhost:8080/"
        },
        "id": "UemHOBRYQLe1",
        "outputId": "31decebd-1885-47f7-d83c-22f885fb23a0"
      },
      "execution_count": 4,
      "outputs": [
        {
          "output_type": "execute_result",
          "execution_count": 4,
          "data": {
            "text/plain": [
              "array([[  0,   0,   0,   0,   0,   0,   0,   0,   0,   0,   0,   0,   0,\n",
              "          0,   0,   0,   0,   0,   0,   0,   0,   0,   0,   0,   0,   0,\n",
              "          0,   0],\n",
              "       [  0,   0,   0,   0,   0,   0,   0,   0,   0,   0,   0,   0,   0,\n",
              "          0,   0,   0,   0,   0,   0,   0,   0,   0,   0,   0,   0,   0,\n",
              "          0,   0],\n",
              "       [  0,   0,   0,   0,   0,   0,   0,   0,   0,   0,   0,   0,   0,\n",
              "          0,   0,   0,   0,   0,   0,   0,   0,   0,   0,   0,   0,   0,\n",
              "          0,   0],\n",
              "       [  0,   0,   0,   0,   0,   0,   0,   0,   0,   0,   0,   0,   0,\n",
              "          0,   0,   0,   0,   0,   0,   0,   0,   0,   0,   0,   0,   0,\n",
              "          0,   0],\n",
              "       [  0,   0,   0,   0,   0,   0,   0,   0,   0,   0,   0,   0,   0,\n",
              "          0,   0,   0,   0,   0,   0,   0,   0,   0,   0,   0,   0,   0,\n",
              "          0,   0],\n",
              "       [  0,   0,   0,   0,   0,   0,   0,   0,   0,   0,   0,   0,   3,\n",
              "         18,  18,  18, 126, 136, 175,  26, 166, 255, 247, 127,   0,   0,\n",
              "          0,   0],\n",
              "       [  0,   0,   0,   0,   0,   0,   0,   0,  30,  36,  94, 154, 170,\n",
              "        253, 253, 253, 253, 253, 225, 172, 253, 242, 195,  64,   0,   0,\n",
              "          0,   0],\n",
              "       [  0,   0,   0,   0,   0,   0,   0,  49, 238, 253, 253, 253, 253,\n",
              "        253, 253, 253, 253, 251,  93,  82,  82,  56,  39,   0,   0,   0,\n",
              "          0,   0],\n",
              "       [  0,   0,   0,   0,   0,   0,   0,  18, 219, 253, 253, 253, 253,\n",
              "        253, 198, 182, 247, 241,   0,   0,   0,   0,   0,   0,   0,   0,\n",
              "          0,   0],\n",
              "       [  0,   0,   0,   0,   0,   0,   0,   0,  80, 156, 107, 253, 253,\n",
              "        205,  11,   0,  43, 154,   0,   0,   0,   0,   0,   0,   0,   0,\n",
              "          0,   0],\n",
              "       [  0,   0,   0,   0,   0,   0,   0,   0,   0,  14,   1, 154, 253,\n",
              "         90,   0,   0,   0,   0,   0,   0,   0,   0,   0,   0,   0,   0,\n",
              "          0,   0],\n",
              "       [  0,   0,   0,   0,   0,   0,   0,   0,   0,   0,   0, 139, 253,\n",
              "        190,   2,   0,   0,   0,   0,   0,   0,   0,   0,   0,   0,   0,\n",
              "          0,   0],\n",
              "       [  0,   0,   0,   0,   0,   0,   0,   0,   0,   0,   0,  11, 190,\n",
              "        253,  70,   0,   0,   0,   0,   0,   0,   0,   0,   0,   0,   0,\n",
              "          0,   0],\n",
              "       [  0,   0,   0,   0,   0,   0,   0,   0,   0,   0,   0,   0,  35,\n",
              "        241, 225, 160, 108,   1,   0,   0,   0,   0,   0,   0,   0,   0,\n",
              "          0,   0],\n",
              "       [  0,   0,   0,   0,   0,   0,   0,   0,   0,   0,   0,   0,   0,\n",
              "         81, 240, 253, 253, 119,  25,   0,   0,   0,   0,   0,   0,   0,\n",
              "          0,   0],\n",
              "       [  0,   0,   0,   0,   0,   0,   0,   0,   0,   0,   0,   0,   0,\n",
              "          0,  45, 186, 253, 253, 150,  27,   0,   0,   0,   0,   0,   0,\n",
              "          0,   0],\n",
              "       [  0,   0,   0,   0,   0,   0,   0,   0,   0,   0,   0,   0,   0,\n",
              "          0,   0,  16,  93, 252, 253, 187,   0,   0,   0,   0,   0,   0,\n",
              "          0,   0],\n",
              "       [  0,   0,   0,   0,   0,   0,   0,   0,   0,   0,   0,   0,   0,\n",
              "          0,   0,   0,   0, 249, 253, 249,  64,   0,   0,   0,   0,   0,\n",
              "          0,   0],\n",
              "       [  0,   0,   0,   0,   0,   0,   0,   0,   0,   0,   0,   0,   0,\n",
              "          0,  46, 130, 183, 253, 253, 207,   2,   0,   0,   0,   0,   0,\n",
              "          0,   0],\n",
              "       [  0,   0,   0,   0,   0,   0,   0,   0,   0,   0,   0,   0,  39,\n",
              "        148, 229, 253, 253, 253, 250, 182,   0,   0,   0,   0,   0,   0,\n",
              "          0,   0],\n",
              "       [  0,   0,   0,   0,   0,   0,   0,   0,   0,   0,  24, 114, 221,\n",
              "        253, 253, 253, 253, 201,  78,   0,   0,   0,   0,   0,   0,   0,\n",
              "          0,   0],\n",
              "       [  0,   0,   0,   0,   0,   0,   0,   0,  23,  66, 213, 253, 253,\n",
              "        253, 253, 198,  81,   2,   0,   0,   0,   0,   0,   0,   0,   0,\n",
              "          0,   0],\n",
              "       [  0,   0,   0,   0,   0,   0,  18, 171, 219, 253, 253, 253, 253,\n",
              "        195,  80,   9,   0,   0,   0,   0,   0,   0,   0,   0,   0,   0,\n",
              "          0,   0],\n",
              "       [  0,   0,   0,   0,  55, 172, 226, 253, 253, 253, 253, 244, 133,\n",
              "         11,   0,   0,   0,   0,   0,   0,   0,   0,   0,   0,   0,   0,\n",
              "          0,   0],\n",
              "       [  0,   0,   0,   0, 136, 253, 253, 253, 212, 135, 132,  16,   0,\n",
              "          0,   0,   0,   0,   0,   0,   0,   0,   0,   0,   0,   0,   0,\n",
              "          0,   0],\n",
              "       [  0,   0,   0,   0,   0,   0,   0,   0,   0,   0,   0,   0,   0,\n",
              "          0,   0,   0,   0,   0,   0,   0,   0,   0,   0,   0,   0,   0,\n",
              "          0,   0],\n",
              "       [  0,   0,   0,   0,   0,   0,   0,   0,   0,   0,   0,   0,   0,\n",
              "          0,   0,   0,   0,   0,   0,   0,   0,   0,   0,   0,   0,   0,\n",
              "          0,   0],\n",
              "       [  0,   0,   0,   0,   0,   0,   0,   0,   0,   0,   0,   0,   0,\n",
              "          0,   0,   0,   0,   0,   0,   0,   0,   0,   0,   0,   0,   0,\n",
              "          0,   0]], dtype=uint8)"
            ]
          },
          "metadata": {}
        }
      ]
    },
    {
      "cell_type": "code",
      "source": "y_train[0]",
      "metadata": {
        "colab": {
          "base_uri": "https://localhost:8080/"
        },
        "id": "8PwqxL-1QTyg",
        "outputId": "eea6ea63-14a7-4def-b970-8a17841419f1"
      },
      "execution_count": 5,
      "outputs": [
        {
          "output_type": "execute_result",
          "execution_count": 5,
          "data": {
            "text/plain": [
              "5"
            ]
          },
          "metadata": {}
        }
      ]
    },
    {
      "cell_type": "code",
      "source": "plt.imshow(X_train[0])",
      "metadata": {
        "colab": {
          "base_uri": "https://localhost:8080/",
          "height": 282
        },
        "id": "PJR8BXzlQZKh",
        "outputId": "e3b27130-59ef-41f8-ed32-70f796fb670a"
      },
      "execution_count": 6,
      "outputs": [
        {
          "output_type": "execute_result",
          "execution_count": 6,
          "data": {
            "text/plain": [
              "<matplotlib.image.AxesImage at 0x7efe24104d50>"
            ]
          },
          "metadata": {}
        },
        {
          "output_type": "display_data",
          "data": {
            "text/plain": [
              "<Figure size 432x288 with 1 Axes>"
            ],
            "image/png": "[encoded data removed]"
          },
          "metadata": {
            "needs_background": "light"
          }
        }
      ]
    },
    {
      "cell_type": "markdown",
      "source": "Data Preprocessing",
      "metadata": {
        "id": "KB7toLVaQhCL"
      }
    },
    {
      "cell_type": "code",
      "source": "X_train = X_train.reshape(60000, 28, 28, 1).astype('float32')\nX_test = X_test.reshape(10000, 28, 28, 1).astype('float32')",
      "metadata": {
        "id": "SrDWA7q1Qeac"
      },
      "execution_count": 7,
      "outputs": []
    },
    {
      "cell_type": "code",
      "source": "number_of_classes = 10\nY_train = np_utils.to_categorical(y_train, number_of_classes)\nY_test = np_utils.to_categorical(y_test, number_of_classes)",
      "metadata": {
        "id": "K7-H8tRVQoCI"
      },
      "execution_count": 8,
      "outputs": []
    },
    {
      "cell_type": "code",
      "source": "Y_train[0]",
      "metadata": {
        "colab": {
          "base_uri": "https://localhost:8080/"
        },
        "id": "m1u66KGEQske",
        "outputId": "19992639-f926-430b-bedc-c0a52f88fbd3"
      },
      "execution_count": 9,
      "outputs": [
        {
          "output_type": "execute_result",
          "execution_count": 9,
          "data": {
            "text/plain": [
              "array([0., 0., 0., 0., 0., 1., 0., 0., 0., 0.], dtype=float32)"
            ]
          },
          "metadata": {}
        }
      ]
    },
    {
      "cell_type": "markdown",
      "source": "Create Model",
      "metadata": {
        "id": "WOczVDYmQwyu"
      }
    },
    {
      "cell_type": "code",
      "source": "model = Sequential()\nmodel.add(Conv2D(64, (3, 3), input_shape=(28, 28, 1), activation=\"relu\"))\nmodel.add(Conv2D(32, (3, 3), activation=\"relu\"))\nmodel.add(Flatten())\nmodel.add(Dense(number_of_classes, activation=\"softmax\"))",
      "metadata": {
        "id": "SNHNgNqGQy3L"
      },
      "execution_count": 10,
      "outputs": []
    },
    {
      "cell_type": "code",
      "source": "model.compile(loss='categorical_crossentropy', optimizer=\"Adam\", metrics=[\"accuracy\"])\n",
      "metadata": {
        "id": "-rS_6z3eQ6Ia"
      },
      "execution_count": 11,
      "outputs": []
    },
    {
      "cell_type": "code",
      "source": "model.fit(X_train, Y_train, batch_size=32, epochs=5, validation_data=(X_test,Y_test))",
      "metadata": {
        "colab": {
          "base_uri": "https://localhost:8080/"
        },
        "id": "hZ6Zd-9kQ_cD",
        "outputId": "21bc91a6-09f0-403a-a792-387bd5e52107"
      },
      "execution_count": 12,
      "outputs": [
        {
          "output_type": "stream",
          "name": "stdout",
          "text": "Epoch 1/5\n\n1875/1875 [==============================] - 196s 104ms/step - loss: 0.2287 - accuracy: 0.9545 - val_loss: 0.0985 - val_accuracy: 0.9733\n\nEpoch 2/5\n\n1875/1875 [==============================] - 195s 104ms/step - loss: 0.0621 - accuracy: 0.9812 - val_loss: 0.0776 - val_accuracy: 0.9790\n\nEpoch 3/5\n\n1875/1875 [==============================] - 194s 103ms/step - loss: 0.0461 - accuracy: 0.9851 - val_loss: 0.0847 - val_accuracy: 0.9763\n\nEpoch 4/5\n\n1875/1875 [==============================] - 193s 103ms/step - loss: 0.0323 - accuracy: 0.9897 - val_loss: 0.0955 - val_accuracy: 0.9778\n\nEpoch 5/5\n\n1875/1875 [==============================] - 194s 103ms/step - loss: 0.0283 - accuracy: 0.9914 - val_loss: 0.1242 - val_accuracy: 0.9743\n"
        },
        {
          "output_type": "execute_result",
          "execution_count": 12,
          "data": {
            "text/plain": [
              "<keras.callbacks.History at 0x7efe2408d7d0>"
            ]
          },
          "metadata": {}
        }
      ]
    },
    {
      "cell_type": "markdown",
      "source": "Test the Model",
      "metadata": {
        "id": "LJVAQxQ4U732"
      }
    },
    {
      "cell_type": "code",
      "source": "metrics = model.evaluate(X_test, Y_test, verbose=0)\nprint(\"Metrics (Test Loss & Test Accuracy): \")\nprint(metrics)",
      "metadata": {
        "colab": {
          "base_uri": "https://localhost:8080/"
        },
        "id": "5D4LIYm5U-Zb",
        "outputId": "f0642a2b-61c4-42e1-b8cc-7e4dbefb5df7"
      },
      "execution_count": 13,
      "outputs": [
        {
          "output_type": "stream",
          "name": "stdout",
          "text": "Metrics (Test Loss & Test Accuracy): \n\n[0.12420044839382172, 0.9743000268936157]\n"
        }
      ]
    },
    {
      "cell_type": "code",
      "source": "prediction = model.predict(X_test[:4])\nprint(prediction)",
      "metadata": {
        "colab": {
          "base_uri": "https://localhost:8080/"
        },
        "id": "Zw8hpcnHVDpL",
        "outputId": "cdeed132-71c0-478e-a7c5-dfc7b6afd14e"
      },
      "execution_count": 14,
      "outputs": [
        {
          "output_type": "stream",
          "name": "stdout",
          "text": "1/1 [==============================] - 0s 95ms/step\n\n[[4.2476056e-08 5.0693601e-15 1.5794379e-08 1.4532749e-07 3.5170849e-16\n\n  1.2075290e-14 1.5686039e-18 9.9999988e-01 2.7307693e-11 6.1261085e-10]\n\n [8.9022328e-10 6.4137801e-12 9.9999928e-01 9.6712305e-10 7.5354116e-17\n\n  2.2103276e-13 5.5830577e-07 2.1301915e-18 1.6853596e-07 3.5003905e-17]\n\n [7.2572580e-11 9.9995959e-01 1.2934409e-07 3.3307094e-12 2.0014747e-06\n\n  6.9414054e-06 1.5949030e-09 7.7253696e-11 3.1403306e-05 3.6155386e-13]\n\n [1.0000000e+00 1.4265362e-19 3.3638474e-11 1.2359819e-20 2.4845849e-17\n\n  5.4995043e-16 2.2762909e-16 5.6324746e-17 1.1860469e-11 1.6514998e-12]]\n"
        }
      ]
    },
    {
      "cell_type": "code",
      "source": "print(numpy.argmax(prediction, axis=1))\nprint(Y_test[:4])",
      "metadata": {
        "colab": {
          "base_uri": "https://localhost:8080/"
        },
        "id": "aeYHW1REVNBu",
        "outputId": "804357b8-4870-4005-ba3e-7d0029b31697"
      },
      "execution_count": 15,
      "outputs": [
        {
          "output_type": "stream",
          "name": "stdout",
          "text": "[7 2 1 0]\n\n[[0. 0. 0. 0. 0. 0. 0. 1. 0. 0.]\n\n [0. 0. 1. 0. 0. 0. 0. 0. 0. 0.]\n\n [0. 1. 0. 0. 0. 0. 0. 0. 0. 0.]\n\n [1. 0. 0. 0. 0. 0. 0. 0. 0. 0.]]\n"
        }
      ]
    },
    {
      "cell_type": "code",
      "source": "model.save(\"models/mnistCNN.h5\")",
      "metadata": {
        "id": "FrZpTCMcVRNc"
      },
      "execution_count": 16,
      "outputs": []
    }
  ]
}