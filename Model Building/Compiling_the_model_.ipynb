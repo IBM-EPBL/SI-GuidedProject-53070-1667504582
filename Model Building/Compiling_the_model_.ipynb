{
  "metadata": {
    "colab": {
      "provenance": [],
      "collapsed_sections": []
    },
    "kernelspec": {
      "name": "python",
      "display_name": "Python (Pyodide)",
      "language": "python"
    },
    "language_info": {
      "codemirror_mode": {
        "name": "python",
        "version": 3
      },
      "file_extension": ".py",
      "mimetype": "text/x-python",
      "name": "python",
      "nbconvert_exporter": "python",
      "pygments_lexer": "ipython3",
      "version": "3.8"
    }
  },
  "nbformat_minor": 4,
  "nbformat": 4,
  "cells": [
    {
      "cell_type": "markdown",
      "source": "Model_Building TEAM_ID - PNT2022TMID25718",
      "metadata": {
        "id": "Ga1U4A1MRyYh"
      }
    },
    {
      "cell_type": "markdown",
      "source": "Import necessary package",
      "metadata": {
        "id": "VhfCAADzSOS9"
      }
    },
    {
      "cell_type": "code",
      "source": "import numpy\nimport matplotlib.pyplot as plt\nfrom keras.utils import np_utils\nfrom tensorflow.keras.datasets import mnist\nfrom tensorflow.keras.models import Sequential\nfrom tensorflow.keras.layers import Conv2D, Dense, Flatten\nfrom tensorflow.keras.optimizers import Adam\n\n(X_train, y_train), (X_test, y_test) = mnist.load_data()",
      "metadata": {
        "colab": {
          "base_uri": "https://localhost:8080/"
        },
        "id": "BnOUWhyFNYS3",
        "outputId": "cb3ba495-7085-4fe1-bd47-1148a791f27d"
      },
      "execution_count": 2,
      "outputs": [
        {
          "output_type": "stream",
          "name": "stdout",
          "text": "Downloading data from https://storage.googleapis.com/tensorflow/tf-keras-datasets/mnist.npz\n\n11490434/11490434 [==============================] - 0s 0us/step\n"
        }
      ]
    },
    {
      "cell_type": "code",
      "source": "print(X_train.shape)\nprint(X_test.shape)",
      "metadata": {
        "colab": {
          "base_uri": "https://localhost:8080/"
        },
        "id": "TTPMtvylOlRj",
        "outputId": "80a6111b-5372-4df1-edeb-52ce1c3df2ab"
      },
      "execution_count": 3,
      "outputs": [
        {
          "output_type": "stream",
          "name": "stdout",
          "text": "(60000, 28, 28)\n\n(10000, 28, 28)\n"
        }
      ]
    },
    {
      "cell_type": "code",
      "source": "X_train[0]",
      "metadata": {
        "colab": {
          "base_uri": "https://localhost:8080/"
        },
        "id": "uufAtN5lOugC",
        "outputId": "045fc92d-ebc7-432e-ca52-cac7111f8d98"
      },
      "execution_count": 4,
      "outputs": [
        {
          "output_type": "execute_result",
          "execution_count": 4,
          "data": {
            "text/plain": [
              "array([[  0,   0,   0,   0,   0,   0,   0,   0,   0,   0,   0,   0,   0,\n",
              "          0,   0,   0,   0,   0,   0,   0,   0,   0,   0,   0,   0,   0,\n",
              "          0,   0],\n",
              "       [  0,   0,   0,   0,   0,   0,   0,   0,   0,   0,   0,   0,   0,\n",
              "          0,   0,   0,   0,   0,   0,   0,   0,   0,   0,   0,   0,   0,\n",
              "          0,   0],\n",
              "       [  0,   0,   0,   0,   0,   0,   0,   0,   0,   0,   0,   0,   0,\n",
              "          0,   0,   0,   0,   0,   0,   0,   0,   0,   0,   0,   0,   0,\n",
              "          0,   0],\n",
              "       [  0,   0,   0,   0,   0,   0,   0,   0,   0,   0,   0,   0,   0,\n",
              "          0,   0,   0,   0,   0,   0,   0,   0,   0,   0,   0,   0,   0,\n",
              "          0,   0],\n",
              "       [  0,   0,   0,   0,   0,   0,   0,   0,   0,   0,   0,   0,   0,\n",
              "          0,   0,   0,   0,   0,   0,   0,   0,   0,   0,   0,   0,   0,\n",
              "          0,   0],\n",
              "       [  0,   0,   0,   0,   0,   0,   0,   0,   0,   0,   0,   0,   3,\n",
              "         18,  18,  18, 126, 136, 175,  26, 166, 255, 247, 127,   0,   0,\n",
              "          0,   0],\n",
              "       [  0,   0,   0,   0,   0,   0,   0,   0,  30,  36,  94, 154, 170,\n",
              "        253, 253, 253, 253, 253, 225, 172, 253, 242, 195,  64,   0,   0,\n",
              "          0,   0],\n",
              "       [  0,   0,   0,   0,   0,   0,   0,  49, 238, 253, 253, 253, 253,\n",
              "        253, 253, 253, 253, 251,  93,  82,  82,  56,  39,   0,   0,   0,\n",
              "          0,   0],\n",
              "       [  0,   0,   0,   0,   0,   0,   0,  18, 219, 253, 253, 253, 253,\n",
              "        253, 198, 182, 247, 241,   0,   0,   0,   0,   0,   0,   0,   0,\n",
              "          0,   0],\n",
              "       [  0,   0,   0,   0,   0,   0,   0,   0,  80, 156, 107, 253, 253,\n",
              "        205,  11,   0,  43, 154,   0,   0,   0,   0,   0,   0,   0,   0,\n",
              "          0,   0],\n",
              "       [  0,   0,   0,   0,   0,   0,   0,   0,   0,  14,   1, 154, 253,\n",
              "         90,   0,   0,   0,   0,   0,   0,   0,   0,   0,   0,   0,   0,\n",
              "          0,   0],\n",
              "       [  0,   0,   0,   0,   0,   0,   0,   0,   0,   0,   0, 139, 253,\n",
              "        190,   2,   0,   0,   0,   0,   0,   0,   0,   0,   0,   0,   0,\n",
              "          0,   0],\n",
              "       [  0,   0,   0,   0,   0,   0,   0,   0,   0,   0,   0,  11, 190,\n",
              "        253,  70,   0,   0,   0,   0,   0,   0,   0,   0,   0,   0,   0,\n",
              "          0,   0],\n",
              "       [  0,   0,   0,   0,   0,   0,   0,   0,   0,   0,   0,   0,  35,\n",
              "        241, 225, 160, 108,   1,   0,   0,   0,   0,   0,   0,   0,   0,\n",
              "          0,   0],\n",
              "       [  0,   0,   0,   0,   0,   0,   0,   0,   0,   0,   0,   0,   0,\n",
              "         81, 240, 253, 253, 119,  25,   0,   0,   0,   0,   0,   0,   0,\n",
              "          0,   0],\n",
              "       [  0,   0,   0,   0,   0,   0,   0,   0,   0,   0,   0,   0,   0,\n",
              "          0,  45, 186, 253, 253, 150,  27,   0,   0,   0,   0,   0,   0,\n",
              "          0,   0],\n",
              "       [  0,   0,   0,   0,   0,   0,   0,   0,   0,   0,   0,   0,   0,\n",
              "          0,   0,  16,  93, 252, 253, 187,   0,   0,   0,   0,   0,   0,\n",
              "          0,   0],\n",
              "       [  0,   0,   0,   0,   0,   0,   0,   0,   0,   0,   0,   0,   0,\n",
              "          0,   0,   0,   0, 249, 253, 249,  64,   0,   0,   0,   0,   0,\n",
              "          0,   0],\n",
              "       [  0,   0,   0,   0,   0,   0,   0,   0,   0,   0,   0,   0,   0,\n",
              "          0,  46, 130, 183, 253, 253, 207,   2,   0,   0,   0,   0,   0,\n",
              "          0,   0],\n",
              "       [  0,   0,   0,   0,   0,   0,   0,   0,   0,   0,   0,   0,  39,\n",
              "        148, 229, 253, 253, 253, 250, 182,   0,   0,   0,   0,   0,   0,\n",
              "          0,   0],\n",
              "       [  0,   0,   0,   0,   0,   0,   0,   0,   0,   0,  24, 114, 221,\n",
              "        253, 253, 253, 253, 201,  78,   0,   0,   0,   0,   0,   0,   0,\n",
              "          0,   0],\n",
              "       [  0,   0,   0,   0,   0,   0,   0,   0,  23,  66, 213, 253, 253,\n",
              "        253, 253, 198,  81,   2,   0,   0,   0,   0,   0,   0,   0,   0,\n",
              "          0,   0],\n",
              "       [  0,   0,   0,   0,   0,   0,  18, 171, 219, 253, 253, 253, 253,\n",
              "        195,  80,   9,   0,   0,   0,   0,   0,   0,   0,   0,   0,   0,\n",
              "          0,   0],\n",
              "       [  0,   0,   0,   0,  55, 172, 226, 253, 253, 253, 253, 244, 133,\n",
              "         11,   0,   0,   0,   0,   0,   0,   0,   0,   0,   0,   0,   0,\n",
              "          0,   0],\n",
              "       [  0,   0,   0,   0, 136, 253, 253, 253, 212, 135, 132,  16,   0,\n",
              "          0,   0,   0,   0,   0,   0,   0,   0,   0,   0,   0,   0,   0,\n",
              "          0,   0],\n",
              "       [  0,   0,   0,   0,   0,   0,   0,   0,   0,   0,   0,   0,   0,\n",
              "          0,   0,   0,   0,   0,   0,   0,   0,   0,   0,   0,   0,   0,\n",
              "          0,   0],\n",
              "       [  0,   0,   0,   0,   0,   0,   0,   0,   0,   0,   0,   0,   0,\n",
              "          0,   0,   0,   0,   0,   0,   0,   0,   0,   0,   0,   0,   0,\n",
              "          0,   0],\n",
              "       [  0,   0,   0,   0,   0,   0,   0,   0,   0,   0,   0,   0,   0,\n",
              "          0,   0,   0,   0,   0,   0,   0,   0,   0,   0,   0,   0,   0,\n",
              "          0,   0]], dtype=uint8)"
            ]
          },
          "metadata": {}
        }
      ]
    },
    {
      "cell_type": "markdown",
      "source": "Data pre processing",
      "metadata": {
        "id": "8Dy-hu_nTMMf"
      }
    },
    {
      "cell_type": "code",
      "source": "y_train[0]",
      "metadata": {
        "colab": {
          "base_uri": "https://localhost:8080/"
        },
        "id": "-4pBEgaKO2Gd",
        "outputId": "080d7867-2869-4666-cbc5-30f164286195"
      },
      "execution_count": 5,
      "outputs": [
        {
          "output_type": "execute_result",
          "execution_count": 5,
          "data": {
            "text/plain": [
              "5"
            ]
          },
          "metadata": {}
        }
      ]
    },
    {
      "cell_type": "code",
      "source": "plt.imshow(X_train[0])",
      "metadata": {
        "colab": {
          "base_uri": "https://localhost:8080/",
          "height": 283
        },
        "id": "8Jhh4yIsPDj7",
        "outputId": "1f6ec9fe-aab8-400b-9a80-89e9e3e613f6"
      },
      "execution_count": 6,
      "outputs": [
        {
          "output_type": "execute_result",
          "execution_count": 6,
          "data": {
            "text/plain": [
              "<matplotlib.image.AxesImage at 0x7f0620e2acd0>"
            ]
          },
          "metadata": {}
        },
        {
          "output_type": "display_data",
          "data": {
            "text/plain": [
              "<Figure size 432x288 with 1 Axes>"
            ],
            "image/png": "[encoded data removed]"
          },
          "metadata": {
            "needs_background": "light"
          }
        }
      ]
    },
    {
      "cell_type": "code",
      "source": "X_train = X_train.reshape(60000, 28, 28, 1).astype('float32')\nX_test = X_test.reshape(10000, 28, 28, 1).astype('float32')\nnumber_of_classes = 10\nY_train = np_utils.to_categorical(y_train, number_of_classes)\nY_test = np_utils.to_categorical(y_test, number_of_classes)\nY_train[0]\n",
      "metadata": {
        "colab": {
          "base_uri": "https://localhost:8080/"
        },
        "id": "CRIB54zRPGZx",
        "outputId": "28d2ec3b-4a5e-4bee-95d0-8dd95e59967c"
      },
      "execution_count": 9,
      "outputs": [
        {
          "output_type": "execute_result",
          "execution_count": 9,
          "data": {
            "text/plain": [
              "array([0., 0., 0., 0., 0., 1., 0., 0., 0., 0.], dtype=float32)"
            ]
          },
          "metadata": {}
        }
      ]
    },
    {
      "cell_type": "markdown",
      "source": "Create model",
      "metadata": {
        "id": "TLnlEq3NTScE"
      }
    },
    {
      "cell_type": "code",
      "source": "model = Sequential()\nmodel.add(Conv2D(64, (3, 3), input_shape=(28, 28, 1), activation=\"relu\"))\nmodel.add(Conv2D(32, (3, 3), activation=\"relu\"))\nmodel.add(Flatten())\nmodel.add(Dense(number_of_classes, activation=\"softmax\"))\n",
      "metadata": {
        "id": "aZQjDq_8P-5z"
      },
      "execution_count": 11,
      "outputs": []
    },
    {
      "cell_type": "markdown",
      "source": "Compiling the model",
      "metadata": {
        "id": "Yn5PrJ4kTg1c"
      }
    },
    {
      "cell_type": "code",
      "source": "model.compile(loss='categorical_crossentropy', optimizer=\"Adam\", metrics=[\"accuracy\"])",
      "metadata": {
        "id": "swNWXIC3QSRy"
      },
      "execution_count": 12,
      "outputs": []
    },
    {
      "cell_type": "code",
      "source": "model.fit(X_train, Y_train, batch_size=32, epochs=5, validation_data=(X_test,Y_test))",
      "metadata": {
        "colab": {
          "base_uri": "https://localhost:8080/"
        },
        "id": "USrnbuy_QXRq",
        "outputId": "4e4d0053-761e-4cbb-c332-ec29bd6ab15e"
      },
      "execution_count": 13,
      "outputs": [
        {
          "output_type": "stream",
          "name": "stdout",
          "text": "Epoch 1/5\n\n1875/1875 [==============================] - 196s 104ms/step - loss: 0.2114 - accuracy: 0.9530 - val_loss: 0.0860 - val_accuracy: 0.9739\n\nEpoch 2/5\n\n1875/1875 [==============================] - 202s 108ms/step - loss: 0.0678 - accuracy: 0.9796 - val_loss: 0.1017 - val_accuracy: 0.9751\n\nEpoch 3/5\n\n1875/1875 [==============================] - 197s 105ms/step - loss: 0.0480 - accuracy: 0.9847 - val_loss: 0.0876 - val_accuracy: 0.9790\n\nEpoch 4/5\n\n1875/1875 [==============================] - 202s 108ms/step - loss: 0.0368 - accuracy: 0.9890 - val_loss: 0.0725 - val_accuracy: 0.9812\n\nEpoch 5/5\n\n1875/1875 [==============================] - 196s 104ms/step - loss: 0.0317 - accuracy: 0.9903 - val_loss: 0.1061 - val_accuracy: 0.9749\n"
        },
        {
          "output_type": "execute_result",
          "execution_count": 13,
          "data": {
            "text/plain": [
              "<keras.callbacks.History at 0x7f061c615110>"
            ]
          },
          "metadata": {}
        }
      ]
    },
    {
      "cell_type": "markdown",
      "source": "Test the model",
      "metadata": {
        "id": "URlYwsiKUZ47"
      }
    },
    {
      "cell_type": "code",
      "source": "metrics = model.evaluate(X_test, Y_test, verbose=0)\nprint(\"Metrics (Test Loss & Test Accuracy): \")\nprint(metrics)",
      "metadata": {
        "colab": {
          "base_uri": "https://localhost:8080/"
        },
        "id": "k8RswA54UbVB",
        "outputId": "e4be5800-1f56-4687-f1cd-94481bdadd09"
      },
      "execution_count": 14,
      "outputs": [
        {
          "output_type": "stream",
          "name": "stdout",
          "text": "Metrics (Test Loss & Test Accuracy): \n\n[0.10613072663545609, 0.9749000072479248]\n"
        }
      ]
    },
    {
      "cell_type": "code",
      "source": "prediction = model.predict(X_test[:4])\nprint(prediction)",
      "metadata": {
        "colab": {
          "base_uri": "https://localhost:8080/"
        },
        "id": "MUnVEZz5Um5I",
        "outputId": "525f05a8-368c-4323-ed33-1d482906e393"
      },
      "execution_count": 15,
      "outputs": [
        {
          "output_type": "stream",
          "name": "stdout",
          "text": "1/1 [==============================] - 0s 93ms/step\n\n[[9.9039808e-14 1.7801291e-17 2.4331301e-09 5.1562615e-10 2.6416533e-15\n\n  9.6221535e-16 1.8084108e-24 1.0000000e+00 3.2786626e-14 6.7406480e-10]\n\n [5.2280425e-16 1.4731727e-12 1.0000000e+00 1.9810487e-11 3.6309416e-18\n\n  1.7567800e-18 4.1256623e-08 3.1735288e-19 3.5455400e-10 4.5615819e-23]\n\n [3.9027423e-08 9.9997389e-01 4.7386902e-06 4.2051904e-12 1.8228963e-07\n\n  3.9746135e-07 1.9909536e-09 1.0973835e-11 2.0772874e-05 2.1399367e-13]\n\n [9.9999607e-01 5.6394082e-13 2.5004380e-07 1.9577358e-12 9.8116532e-12\n\n  6.2192071e-11 2.3564528e-06 9.4811000e-14 1.3014859e-06 6.0907044e-09]]\n"
        }
      ]
    },
    {
      "cell_type": "code",
      "source": "print(numpy.argmax(prediction, axis=1))\nprint(Y_test[:4])",
      "metadata": {
        "colab": {
          "base_uri": "https://localhost:8080/"
        },
        "id": "rXy1CJyBUsKL",
        "outputId": "4780ce3a-609d-4f48-d6cf-14f5d5c6b8ba"
      },
      "execution_count": 16,
      "outputs": [
        {
          "output_type": "stream",
          "name": "stdout",
          "text": "[7 2 1 0]\n\n[[0. 0. 0. 0. 0. 0. 0. 1. 0. 0.]\n\n [0. 0. 1. 0. 0. 0. 0. 0. 0. 0.]\n\n [0. 1. 0. 0. 0. 0. 0. 0. 0. 0.]\n\n [1. 0. 0. 0. 0. 0. 0. 0. 0. 0.]]\n"
        }
      ]
    }
  ]
}