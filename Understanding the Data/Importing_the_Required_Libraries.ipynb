{
  "metadata": {
    "colab": {
      "provenance": []
    },
    "kernelspec": {
      "name": "python",
      "display_name": "Python (Pyodide)",
      "language": "python"
    },
    "language_info": {
      "codemirror_mode": {
        "name": "python",
        "version": 3
      },
      "file_extension": ".py",
      "mimetype": "text/x-python",
      "name": "python",
      "nbconvert_exporter": "python",
      "pygments_lexer": "ipython3",
      "version": "3.8"
    }
  },
  "nbformat_minor": 4,
  "nbformat": 4,
  "cells": [
    {
      "cell_type": "code",
      "source": "Team ID: PNT2022TMID25718",
      "metadata": {
        "id": "_5Gy0xTGh4S2"
      },
      "execution_count": null,
      "outputs": []
    },
    {
      "cell_type": "markdown",
      "source": "Importing the Required Libraries",
      "metadata": {
        "id": "Jl5URBoeiCJl"
      }
    },
    {
      "cell_type": "code",
      "source": "import numpy as np\nimport tensorflow #open source used for both ML and DL for computation\nfrom tensorflow.keras.datasets import mnist #mnist dataset\nfrom tensorflow.keras.models import Sequential #it is a plain stack of layers\nfrom tensorflow.keras import layers #A Layer consists of a tensor- in tensor-out computat ion funct ion\nfrom tensorflow.keras.layers import Dense, Flatten #Dense-Dense Layer is the regular deeply connected r\n#faltten -used fot flattening the input or change the dimension\nfrom tensorflow.keras.layers import Conv2D #onvoLutiona l Layer\nfrom keras.optimizers import Adam #opt imizer\nfrom keras. utils import np_utils #used for one-hot encoding\nimport matplotlib.pyplot as plt   #used for data visualization",
      "metadata": {
        "id": "JGzQLXp_mC3C"
      },
      "execution_count": 14,
      "outputs": []
    }
  ]
}