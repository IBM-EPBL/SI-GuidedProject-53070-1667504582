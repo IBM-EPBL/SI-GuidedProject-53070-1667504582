{
  "metadata": {
    "colab": {
      "provenance": []
    },
    "kernelspec": {
      "name": "python",
      "display_name": "Python (Pyodide)",
      "language": "python"
    },
    "language_info": {
      "codemirror_mode": {
        "name": "python",
        "version": 3
      },
      "file_extension": ".py",
      "mimetype": "text/x-python",
      "name": "python",
      "nbconvert_exporter": "python",
      "pygments_lexer": "ipython3",
      "version": "3.8"
    }
  },
  "nbformat_minor": 4,
  "nbformat": 4,
  "cells": [
    {
      "cell_type": "code",
      "source": "Understanding_the_data TEAM_ID - PNT2022TMID25718",
      "metadata": {
        "id": "5JVESgQqjZKQ"
      },
      "execution_count": null,
      "outputs": []
    },
    {
      "cell_type": "code",
      "source": "import pandas as pd\nimport numpy as np\nimport seaborn as sns\nfrom keras.datasets import mnist\nfrom keras.layers import Dense, Flatten, MaxPooling2D, Dropout\nfrom keras.layers.convolutional import Conv2D\nfrom keras.models import Sequential\nfrom tensorflow.keras.utils import to_categorical\nimport cv2",
      "metadata": {
        "id": "Q-MB0CKii8OV"
      },
      "execution_count": 1,
      "outputs": []
    },
    {
      "cell_type": "code",
      "source": "(X_train, y_train), (X_test, y_test) = mnist.load_data()",
      "metadata": {
        "colab": {
          "base_uri": "https://localhost:8080/"
        },
        "id": "bP1VClX3jE2W",
        "outputId": "7cbd13ce-9dc5-4e9c-b144-e56e0008ec0e"
      },
      "execution_count": 2,
      "outputs": [
        {
          "output_type": "stream",
          "name": "stdout",
          "text": "Downloading data from https://storage.googleapis.com/tensorflow/tf-keras-datasets/mnist.npz\n\n11490434/11490434 [==============================] - 0s 0us/step\n"
        }
      ]
    }
  ]
}